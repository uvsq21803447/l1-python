{
 "cells": [
  {
   "cell_type": "markdown",
   "metadata": {},
   "source": [
    "# Cryptanalyse\n",
    "\n",
    "Votre mission, si vous l'acceptez, est de déchiffrer 4 textes de difficulté croissante en vous aidant d'un programme python que vous allez écrire.\n",
    "\n",
    "\n",
    "- Les fichiers ont été cryptés avec des méthodes données en cours.\n",
    "- Les fichiers chiffrés contiennent des textes en ASCII. Une fois déchiffrés ils vous donneront des informations.\n",
    "- Vous devez vous baser sur les fréquences d'apparition des lettres en français (et des paires de lettres) pour casser les codes. Faire une fonction de calcul pour vous aider.\n",
    "- Penser à réutliser le code du td de cryptographie comme base de travail.\n",
    "- Le code de votre programme doit être sur github et vous fournirez un lien vers votre projet github avec le code et le résultat du décodage\n",
    "en le déposant sur Moodle avant le mercredi 12 mai.\n",
    "- Une soutenance sera organisée le 17 mai.\n",
    "\n",
    "\n"
   ]
  },
  {
   "source": [
    "Commençons par le texte 1 :\n",
    "\n",
    "kd oqnbgzhm ehbghdq ztqz tm bncd ozq rtarshstshnm zkogzadshptd: bgzptd kdssqd drs qdlokzbdd ozq tmd ztsqd. tshkhrdq kz eqdptdmbd cdr kdssqdr ontq cdbncdq kd ldrrzfd.\n",
    "\n",
    "On va utiliser une fonction pour calculer la fréquence de chaque lettre dans le texte."
   ],
   "cell_type": "markdown",
   "metadata": {}
  },
  {
   "cell_type": "code",
   "execution_count": 1,
   "metadata": {},
   "outputs": [],
   "source": [
    "def frequence(message_chiffre):\n",
    "    \"\"\" Fonction permettant de renvoyer sous forme de matrice les lettres d'un texte donné (message_chiffre) avec leur fréquence d'apparition dans ce texte. \"\"\"\n",
    "    resultat = []\n",
    "    for c in message_chiffre:\n",
    "        if 97 <= ord(c) <= 122:\n",
    "            exist = True\n",
    "            for i in range(len(resultat)):\n",
    "                if resultat[i][0] == c:\n",
    "                    exist = False\n",
    "            if exist:\n",
    "                resultat.append([c, round(message_chiffre.count(c)/len(message_chiffre)*100, 2)])\n",
    "    return resultat"
   ]
  },
  {
   "cell_type": "code",
   "execution_count": 31,
   "metadata": {},
   "outputs": [
    {
     "output_type": "execute_result",
     "data": {
      "text/plain": [
       "[['k', 4.85],\n",
       " ['d', 15.76],\n",
       " ['o', 3.64],\n",
       " ['q', 7.88],\n",
       " ['n', 3.03],\n",
       " ['b', 4.24],\n",
       " ['g', 2.42],\n",
       " ['z', 7.27],\n",
       " ['h', 4.85],\n",
       " ['m', 3.03],\n",
       " ['e', 1.21],\n",
       " ['t', 6.67],\n",
       " ['c', 2.42],\n",
       " ['r', 4.85],\n",
       " ['a', 1.21],\n",
       " ['s', 6.67],\n",
       " ['p', 1.82],\n",
       " ['l', 1.21],\n",
       " ['f', 0.61]]"
      ]
     },
     "metadata": {},
     "execution_count": 31
    }
   ],
   "source": [
    "frequence(\"kd oqnbgzhm ehbghdq ztqz tm bncd ozq rtarshstshnm zkogzadshptd: bgzptd kdssqd drs qdlokzbdd ozq tmd ztsqd. tshkhrdq kz eqdptdmbd cdr kdssqdr ontq cdbncdq kd ldrrzfd.\") # texte 1"
   ]
  },
  {
   "source": [
    "On constate que la lettre la plus utilisée dans le texte est le 'd'. On en déduit que le 'd' correspond au 'e' qui est la lettre la plus utilisée dans la langue française.\n",
    "\n",
    "Le décalage utilisé pour crypter le texte est donc de 1, autrement dit chaque lettre correspond à la suivante dans l'ordre alphabétique."
   ],
   "cell_type": "markdown",
   "metadata": {}
  },
  {
   "source": [
    "Par cette logique, on peut décoder le texte 1 qui donne :\n",
    "--> le prochain fichier aura un code par substitution alphabetique: chaque lettre est remplacee par une autre. utiliser la frequence des lettres pour decoder le message."
   ],
   "cell_type": "markdown",
   "metadata": {}
  },
  {
   "source": [
    "Intéressons-nous au texte 2 :\n",
    "\n",
    "gx qosvlnkd wkvlkxo xiu vscx qno yd fsu cx qniix cx unkggx kdvsddyx xu vsdukxdu g'kdckvx. gxi gxuuoxi cy fsu cx qniix qxofxuuxdu cx cxvngxo gxi gxuuoxi cy fxiinmx sokmkdng fscygs 26. ixygxi gxi gxuuoxi cx n n a isdu vlkwwoxxi.\n",
    "\n",
    "On sait du texte 1 qu'il est crypté par substitution alphabétique, ce qui veut dire que chaque lettre est remplacée par une autre selon leur fréquence d'apparition."
   ],
   "cell_type": "markdown",
   "metadata": {}
  },
  {
   "cell_type": "code",
   "execution_count": 34,
   "metadata": {},
   "outputs": [
    {
     "output_type": "execute_result",
     "data": {
      "text/plain": [
       "[['g', 6.19],\n",
       " ['x', 15.93],\n",
       " ['q', 2.21],\n",
       " ['o', 4.42],\n",
       " ['s', 4.42],\n",
       " ['v', 3.54],\n",
       " ['l', 1.33],\n",
       " ['n', 4.42],\n",
       " ['k', 4.87],\n",
       " ['d', 4.87],\n",
       " ['w', 1.33],\n",
       " ['i', 7.52],\n",
       " ['u', 7.52],\n",
       " ['c', 4.87],\n",
       " ['y', 2.65],\n",
       " ['f', 2.21],\n",
       " ['m', 0.88],\n",
       " ['a', 0.44]]"
      ]
     },
     "metadata": {},
     "execution_count": 34
    }
   ],
   "source": [
    "frequence(\"gx qosvlnkd wkvlkxo xiu vscx qno yd fsu cx qniix cx unkggx kdvsddyx xu vsdukxdu g'kdckvx. gxi gxuuoxi cy fsu cx qniix qxofxuuxdu cx cxvngxo gxi gxuuoxi cy fxiinmx sokmkdng fscygs 26. ixygxi gxi gxuuoxi cx n n a isdu vlkwwoxxi.\") # texte 2"
   ]
  },
  {
   "source": [
    "Comme précédemment, on peut d'abord conclure que le 'x' code le 'e'.\n",
    "On peut aussi conclure sur le codage de d'autres lettres grâce notamment aux mots courts et aux doubles lettres entre autres. Par exemple, 'cx' code vraissemblablement pour 'de', et 'gxi' donne 'les'.\n",
    "\n",
    "Je me suis aussi aidée d'un tableau trouvé sur internet me donnant la fréquence d'apparition globale de chaque lettre dans la langue française : https://www.apprendre-en-ligne.net/crypto/stat/francais.html"
   ],
   "cell_type": "markdown",
   "metadata": {}
  },
  {
   "source": [
    "Nous avons le code de plus en plus de lettres, ce qui nous permet de déduire certains mots, pour au final en déduire l'entièreté du texte. Les correspondances entre les lettres sont les suivantes (à gauche la lettre du texte à décoder, à droite la lettre décodée) :"
   ],
   "cell_type": "markdown",
   "metadata": {}
  },
  {
   "source": [
    "x --> e\n",
    "c --> d\n",
    "i --> s\n",
    "y --> u\n",
    "g --> l\n",
    "u --> t\n",
    "o --> r\n",
    "s --> o\n",
    "d --> n\n",
    "v --> c\n",
    "k --> i\n",
    "n --> a\n",
    "q --> p\n",
    "f --> m\n",
    "l --> h\n",
    "m --> g\n",
    "w --> f\n",
    "..."
   ],
   "cell_type": "code",
   "metadata": {},
   "execution_count": null,
   "outputs": []
  },
  {
   "source": [
    "Ainsi on peut décoder le texte 2 :\n",
    "\n",
    "--> le prochain fichier est code par un mot de passe de taille inconnue et contient l'indice. les lettres du mot de passe permettent de decaler les lettres du message original modulo 26. seules les lettres de a a z sont chiffrees."
   ],
   "cell_type": "markdown",
   "metadata": {}
  },
  {
   "source": [
    "Pour finir, intéressons-nous au texte 3 :\n",
    "\n",
    "dceuq e n'ehfp cg p'kyhhep uqfw cgiy citudm c gzudiq ni ezhd px c jhptv ep cggsht. kg hdtymdt xdzei gdx rzyq wir mvzxpw, cifcchdb znwd ccyw wy lkcsht, dp isgd uqfw wy ?\n",
    "\n",
    "On crée une fonction qui permet de calculer le décalage entre deux lettres afin de trouver la clé du cryptage."
   ],
   "cell_type": "markdown",
   "metadata": {}
  },
  {
   "cell_type": "code",
   "execution_count": 55,
   "metadata": {},
   "outputs": [],
   "source": [
    "def rang(lettre):\n",
    "    \"\"\" Fonction qui renvoie le numéro de la lettre, compris entre 0 ('a') et 25 ('z') pour les lettres minuscules. \"\"\"\n",
    "    return ord(lettre) - 97\n",
    "\n",
    "def decalage(lettre_message, lettre_cle):\n",
    "    \"\"\" Fonction qui prend en entrée la lettre du message et soit la lettre de la clé soit la lettre décodée et qui renvoie respectivement la lettre décodée ou la lettre de la clé correspondant au décalage. \"\"\"\n",
    "    if 97 <= ord(lettre_message) <= 122:\n",
    "        return chr((rang(lettre_message)-rang(lettre_cle))%26 + 97)\n",
    "    else:\n",
    "        return lettre_message"
   ]
  },
  {
   "source": [
    "On cherche dans le texte 3 des mots ou des bouts de mots qui ressembleraient à un autre. Par exemple, les lettres 'e' et 'c' seules sont vraissemblablement des 'a', les 'n' et 'p' suivis d'une apostrophe pourraient être des 'l', le 'kg' commençant la deuxième phrase pourrait être un 'le'... Et ainsi de suite."
   ],
   "cell_type": "markdown",
   "metadata": {}
  },
  {
   "cell_type": "code",
   "execution_count": 49,
   "metadata": {},
   "outputs": [
    {
     "output_type": "stream",
     "name": "stdout",
     "text": [
      "c\ne\nc\ne\n"
     ]
    }
   ],
   "source": [
    "print(decalage('c', 'a'))\n",
    "print(decalage('e', 'a'))\n",
    "\n",
    "print(decalage('n', 'l'))\n",
    "print(decalage('p', 'l'))"
   ]
  },
  {
   "cell_type": "code",
   "execution_count": 50,
   "metadata": {},
   "outputs": [
    {
     "output_type": "stream",
     "name": "stdout",
     "text": [
      "z\nc\n"
     ]
    }
   ],
   "source": [
    "print(decalage('k', 'l'))\n",
    "print(decalage('g', 'e'))"
   ]
  },
  {
   "source": [
    "On utilise une fenêtre graphique pour tester différentes clés.\n",
    "\n",
    "Quatre lettres composant la clé commencent à être mises en avant : 'c', 'l', 'e' et 'z'. J'ai donc testé des clés comme 'cez', 'celz', 'lecz', 'zce'..."
   ],
   "cell_type": "markdown",
   "metadata": {}
  },
  {
   "cell_type": "code",
   "execution_count": 46,
   "metadata": {},
   "outputs": [],
   "source": [
    "# Fonctions pour faire fonctionner la fenêtre graphique et faire fonctionner le canvas.\n",
    "\n",
    "def dec_texte(texte, cle):\n",
    "    taille_cle = len(cle)\n",
    "    res = \"\"\n",
    "    for i in range(len(texte)):\n",
    "        res += decalage(texte[i], cle[i%taille_cle])\n",
    "    return res\n",
    "\n",
    "def chiffre():\n",
    "    resultat.delete(0, tk.END)\n",
    "    text = entree_texte.get()\n",
    "    cle = entree_cle.get()\n",
    "    if len(text) > 0 and len(cle) > 0:\n",
    "        res = dec_texte(text, cle)\n",
    "        resultat.insert(0, res)\n",
    "    else:\n",
    "        resultat.insert(0, \"Il manque quelque chose\")\n",
    "\n",
    "def dechiffrer(message_chiffre, cle):\n",
    "    taille_cle = len(cle)\n",
    "    res = \"\"\n",
    "    for i in range(len(message_chiffre)):\n",
    "        res += decalage(message_chiffre[i], chr(256-ord(cle[i%taille_cle])))\n",
    "    return res\n",
    "\n",
    "def dechiffre():\n",
    "    lebal_dech.config(text = dechiffrer(resultat.get(), entree_cle.get()))"
   ]
  },
  {
   "cell_type": "code",
   "execution_count": 60,
   "metadata": {},
   "outputs": [],
   "source": [
    "# Fenêtre grpahique de cryptage.\n",
    "\n",
    "import tkinter as tk\n",
    "\n",
    "racine = tk.Tk()\n",
    "racine.title(\"Cryptographie\")\n",
    "\n",
    "\n",
    "entree_texte = tk.Entry(racine, width = 50, font = (\"helvetica\", \"20\"))\n",
    "entree_texte.grid(row = 0, column = 0)\n",
    "\n",
    "entree_cle = tk.Entry(racine, width = 50, font = (\"helvetica\", \"20\"))\n",
    "entree_cle.grid(row = 1, column = 0)\n",
    "\n",
    "label_texte = tk.Label(racine, font = (\"helvetica\", \"20\"), text = \"Entrer le message ici.\")\n",
    "label_texte.grid(row = 0, column = 1)\n",
    "\n",
    "label_cle = tk.Label(racine, font = (\"helvetica\", \"20\"), text = \"Entrer la clé ici.\")\n",
    "label_cle.grid(row = 1, column = 1)\n",
    "\n",
    "bouton_coder = tk.Button(racine, text = \"Chiffrer texte\", fg = \"black\", width = 15, command = chiffre)\n",
    "bouton_coder.grid(row = 2, column = 0)\n",
    "\n",
    "bouton_decoder = tk.Button(racine, text = \"Déchiffrer texte\", fg = \"black\", width = 15, command = dechiffre)\n",
    "bouton_decoder.grid(row = 2, column = 1)\n",
    "\n",
    "resultat = tk.Entry(racine, width = 50, font = (\"helvetica\", \"20\"))\n",
    "resultat.grid(row = 3, column = 0)\n",
    "\n",
    "label_dech = tk.Label(racine, width = 50, font = (\"helvetica\", \"20\"), text = \"Déchiffrer ici\")\n",
    "label_dech.grid(row = 3, column = 1)\n",
    "\n",
    "\n",
    "racine.mainloop()"
   ]
  },
  {
   "source": [
    "La clé du texte est donc 'clez'.\n",
    "\n",
    "Le texte 3 est donc :\n",
    "\n",
    "--> bravo a l'aide de l'indice vous avez reussi a casser le code et a finir ce devoir. le dernier texte est pour les braves, regardez vous dans un miroir, en etes vous un ?"
   ],
   "cell_type": "markdown",
   "metadata": {}
  },
  {
   "cell_type": "code",
   "execution_count": null,
   "metadata": {},
   "outputs": [],
   "source": []
  }
 ],
 "metadata": {
  "kernelspec": {
   "name": "python385jvsc74a57bd04962930e6f4bd1c26eab0b5f80fd5afa08a7278c86300b8c9e311d7f4185b8f9",
   "display_name": "Python 3.8.5 64-bit ('base': conda)"
  },
  "language_info": {
   "codemirror_mode": {
    "name": "ipython",
    "version": 3
   },
   "file_extension": ".py",
   "mimetype": "text/x-python",
   "name": "python",
   "nbconvert_exporter": "python",
   "pygments_lexer": "ipython3",
   "version": "3.8.5"
  }
 },
 "nbformat": 4,
 "nbformat_minor": 2
}